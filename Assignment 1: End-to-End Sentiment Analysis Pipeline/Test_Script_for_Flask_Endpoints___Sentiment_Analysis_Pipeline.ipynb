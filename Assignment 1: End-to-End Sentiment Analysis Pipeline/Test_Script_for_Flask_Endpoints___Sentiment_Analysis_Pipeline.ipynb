{
  "nbformat": 4,
  "nbformat_minor": 0,
  "metadata": {
    "colab": {
      "provenance": []
    },
    "kernelspec": {
      "name": "python3",
      "display_name": "Python 3"
    },
    "language_info": {
      "name": "python"
    }
  },
  "cells": [
    {
      "cell_type": "code",
      "execution_count": null,
      "metadata": {
        "id": "PNa_bObyndTu"
      },
      "outputs": [],
      "source": [
        "import requests\n",
        "import json"
      ]
    },
    {
      "cell_type": "code",
      "source": [
        "def test_sentiment_api(text, url, index):\n",
        "    \"\"\"\n",
        "    Test the sentiment analysis API\n",
        "    \"\"\"\n",
        "    # Add /predict to the base URL\n",
        "    api_url = f\"{url}/predict\"\n",
        "\n",
        "    headers = {'Content-Type': 'application/json'}\n",
        "    data = {'review_text': text}\n",
        "\n",
        "    response = requests.post(api_url, headers=headers, json=data)\n",
        "\n",
        "    print(f\"{index + 1}. Input Text: {text}\")\n",
        "    print(\"Response:\")\n",
        "    print(json.dumps(response.json(), indent=2))\n",
        "    print(\"-\"*200)\n",
        "\n"
      ],
      "metadata": {
        "id": "zq3B6i4pnd-b"
      },
      "execution_count": null,
      "outputs": []
    },
    {
      "cell_type": "code",
      "source": [
        "# Test cases\n",
        "test_texts = [\n",
        "    \"This product exceeded my expectations. The quality is outstanding!\",\n",
        "    \"Terrible experience. Would not recommend to anyone.\",\n",
        "    \"An absolute masterpiece! The storytelling was phenomenal, and the cinematography was breathtaking. The actors delivered stunning performances, making the characters feel real and relatable. A must-watch for any movie lover!\",\n",
        "    \"Too long and painfully slow. The story dragged on with unnecessary scenes, and the characters lacked depth. I kept waiting for something exciting to happen, but it never did.\",\n",
        "    \"Boring and forgettable. The pacing was terrible, and I couldn’t connect with the characters at all. I almost fell asleep halfway through.\",\n",
        "    \"A visually stunning and emotionally touching film. The direction was top-notch, and the storytelling was beautifully crafted. I laughed, I cried, and I loved every moment of it!\"\n",
        "]\n",
        "print(\"Sentiment Prediction:\")\n",
        "public_url = \"https://bd36-34-121-3-207.ngrok-free.app/\"\n",
        "for index, text in enumerate(test_texts):\n",
        "    test_sentiment_api(text, public_url, index)"
      ],
      "metadata": {
        "colab": {
          "base_uri": "https://localhost:8080/"
        },
        "id": "pdPtTrNYnifF",
        "outputId": "eefe107f-89b3-4bcb-889b-ca7649f3dd34"
      },
      "execution_count": null,
      "outputs": [
        {
          "output_type": "stream",
          "name": "stdout",
          "text": [
            "Sentiment Prediction:\n",
            "1. Input Text: This product exceeded my expectations. The quality is outstanding!\n",
            "Response:\n",
            "{\n",
            "  \"sentiment_prediction\": \"positive\"\n",
            "}\n",
            "--------------------------------------------------------------------------------------------------------------------------------------------------------------------------------------------------------\n",
            "2. Input Text: Terrible experience. Would not recommend to anyone.\n",
            "Response:\n",
            "{\n",
            "  \"sentiment_prediction\": \"negative\"\n",
            "}\n",
            "--------------------------------------------------------------------------------------------------------------------------------------------------------------------------------------------------------\n",
            "3. Input Text: An absolute masterpiece! The storytelling was phenomenal, and the cinematography was breathtaking. The actors delivered stunning performances, making the characters feel real and relatable. A must-watch for any movie lover!\n",
            "Response:\n",
            "{\n",
            "  \"sentiment_prediction\": \"positive\"\n",
            "}\n",
            "--------------------------------------------------------------------------------------------------------------------------------------------------------------------------------------------------------\n",
            "4. Input Text: Too long and painfully slow. The story dragged on with unnecessary scenes, and the characters lacked depth. I kept waiting for something exciting to happen, but it never did.\n",
            "Response:\n",
            "{\n",
            "  \"sentiment_prediction\": \"negative\"\n",
            "}\n",
            "--------------------------------------------------------------------------------------------------------------------------------------------------------------------------------------------------------\n",
            "5. Input Text: Boring and forgettable. The pacing was terrible, and I couldn’t connect with the characters at all. I almost fell asleep halfway through.\n",
            "Response:\n",
            "{\n",
            "  \"sentiment_prediction\": \"negative\"\n",
            "}\n",
            "--------------------------------------------------------------------------------------------------------------------------------------------------------------------------------------------------------\n",
            "6. Input Text: A visually stunning and emotionally touching film. The direction was top-notch, and the storytelling was beautifully crafted. I laughed, I cried, and I loved every moment of it!\n",
            "Response:\n",
            "{\n",
            "  \"sentiment_prediction\": \"positive\"\n",
            "}\n",
            "--------------------------------------------------------------------------------------------------------------------------------------------------------------------------------------------------------\n"
          ]
        }
      ]
    },
    {
      "cell_type": "code",
      "source": [],
      "metadata": {
        "id": "Nu-f65mEnmQ9"
      },
      "execution_count": null,
      "outputs": []
    }
  ]
}